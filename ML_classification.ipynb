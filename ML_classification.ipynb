{
 "cells": [
  {
   "cell_type": "markdown",
   "metadata": {},
   "source": [
    "Importing necessary libraries "
   ]
  },
  {
   "cell_type": "code",
   "execution_count": 43,
   "metadata": {},
   "outputs": [],
   "source": [
    "from sklearn.model_selection import train_test_split\n",
    "from sklearn.svm import SVC\n",
    "from sklearn.metrics import confusion_matrix, accuracy_score, precision_score, recall_score, classification_report\n",
    "import matplotlib.pyplot as plt \n",
    "import seaborn as sns\n",
    "import pandas as pd\n",
    "from sklearn.ensemble import RandomForestClassifier\n",
    "from sklearn.preprocessing import StandardScaler, LabelEncoder\n",
    "from sklearn.metrics import classification_report\n",
    "import numpy as np"
   ]
  },
  {
   "cell_type": "markdown",
   "metadata": {},
   "source": [
    "Processing data"
   ]
  },
  {
   "cell_type": "code",
   "execution_count": 44,
   "metadata": {},
   "outputs": [],
   "source": [
    "data = pd.read_csv('Dataset.csv')"
   ]
  },
  {
   "cell_type": "code",
   "execution_count": 45,
   "metadata": {},
   "outputs": [],
   "source": [
    "features = ['AP', 'RP', 'experience_dive', 'experience_discipline', 'Month', 'Year']\n",
    "X = data[features]\n",
    "y = data['Card']  # Target"
   ]
  },
  {
   "cell_type": "markdown",
   "metadata": {},
   "source": [
    "The objective is to predict dive card categories (RED, WHITE, YELLOW) based on features like announced depth, achieved depth, diver experience, and date."
   ]
  },
  {
   "cell_type": "code",
   "execution_count": 46,
   "metadata": {},
   "outputs": [
    {
     "name": "stdout",
     "output_type": "stream",
     "text": [
      "Card\n",
      "WHITE     22409\n",
      "YELLOW     5898\n",
      "RED        3064\n",
      "Name: count, dtype: int64\n"
     ]
    }
   ],
   "source": [
    "card_counts = data['Card'].value_counts()\n",
    "print(card_counts)"
   ]
  },
  {
   "cell_type": "markdown",
   "metadata": {},
   "source": [
    "Each feature likely has a relationship with the target 'Card'.\n",
    "For instance, experience (experience_dive, experience_discipline) and performance (AP, RP)."
   ]
  },
  {
   "cell_type": "markdown",
   "metadata": {},
   "source": [
    "And we can see it from the graphs in (Data_Exp.ipynb)"
   ]
  },
  {
   "cell_type": "markdown",
   "metadata": {},
   "source": [
    "Fill missing numerical values with mean"
   ]
  },
  {
   "cell_type": "code",
   "execution_count": 47,
   "metadata": {},
   "outputs": [],
   "source": [
    "X = X.fillna(X.mean())"
   ]
  },
  {
   "cell_type": "code",
   "execution_count": 48,
   "metadata": {},
   "outputs": [],
   "source": [
    "# Convert categorical features in X to binary columns\n",
    "X = pd.get_dummies(X, drop_first=True)"
   ]
  },
  {
   "cell_type": "markdown",
   "metadata": {},
   "source": [
    "1st Method"
   ]
  },
  {
   "cell_type": "markdown",
   "metadata": {},
   "source": [
    "Scaling the features and splitting data into train and test"
   ]
  },
  {
   "cell_type": "code",
   "execution_count": 49,
   "metadata": {},
   "outputs": [],
   "source": [
    "''' \n",
    "Standardize the feature values in X to have a mean of 0 and standard\n",
    "deviation of 1, improving model performance by ensuring features are on the\n",
    "same scale\n",
    "'''\n",
    "\n",
    "scaler = StandardScaler()\n",
    "X_scaled = scaler.fit_transform(X)"
   ]
  },
  {
   "cell_type": "code",
   "execution_count": 50,
   "metadata": {},
   "outputs": [],
   "source": [
    "\n",
    "#Split standardized data into training(70%) and testing(30%)\n",
    "X_train, X_test, y_train, y_test = train_test_split(X_scaled, y, test_size=0.3, random_state=42) "
   ]
  },
  {
   "cell_type": "markdown",
   "metadata": {},
   "source": [
    "The choice of SVM is motivated by its theoretical strong performance as a classifier for problems with non-linear decision boundaries. The linear kernel is suitable when the classes are linearly separable, while the RBF kernel often performs better for problems with complex non-linear relationships between classes. The polynomial kernel is also an interesting option as it can capture intermediate complexity relationships between the data. Comparing these kernels allowed us to determine which model best matched the distribution of the data."
   ]
  },
  {
   "cell_type": "markdown",
   "metadata": {},
   "source": [
    "SVM classifier with linear kernel"
   ]
  },
  {
   "cell_type": "code",
   "execution_count": 51,
   "metadata": {},
   "outputs": [
    {
     "name": "stdout",
     "output_type": "stream",
     "text": [
      "Classification Report:\n",
      "              precision    recall  f1-score   support\n",
      "\n",
      "         RED       0.00      0.00      0.00       953\n",
      "       WHITE       0.87      0.99      0.93      6692\n",
      "      YELLOW       0.80      0.81      0.80      1767\n",
      "\n",
      "    accuracy                           0.86      9412\n",
      "   macro avg       0.56      0.60      0.58      9412\n",
      "weighted avg       0.77      0.86      0.81      9412\n",
      "\n"
     ]
    },
    {
     "name": "stderr",
     "output_type": "stream",
     "text": [
      "c:\\Users\\amina\\AppData\\Local\\Programs\\Python\\Python39\\lib\\site-packages\\sklearn\\metrics\\_classification.py:1509: UndefinedMetricWarning: Precision is ill-defined and being set to 0.0 in labels with no predicted samples. Use `zero_division` parameter to control this behavior.\n",
      "  _warn_prf(average, modifier, f\"{metric.capitalize()} is\", len(result))\n",
      "c:\\Users\\amina\\AppData\\Local\\Programs\\Python\\Python39\\lib\\site-packages\\sklearn\\metrics\\_classification.py:1509: UndefinedMetricWarning: Precision is ill-defined and being set to 0.0 in labels with no predicted samples. Use `zero_division` parameter to control this behavior.\n",
      "  _warn_prf(average, modifier, f\"{metric.capitalize()} is\", len(result))\n",
      "c:\\Users\\amina\\AppData\\Local\\Programs\\Python\\Python39\\lib\\site-packages\\sklearn\\metrics\\_classification.py:1509: UndefinedMetricWarning: Precision is ill-defined and being set to 0.0 in labels with no predicted samples. Use `zero_division` parameter to control this behavior.\n",
      "  _warn_prf(average, modifier, f\"{metric.capitalize()} is\", len(result))\n"
     ]
    }
   ],
   "source": [
    "svm = SVC(kernel='linear')\n",
    "svm.fit(X_train, y_train) #Train the SVM model\n",
    "\n",
    "y_pred = svm.predict(X_test) # Make predictions on the test set\n",
    "\n",
    "report = classification_report(y_test, y_pred) # Evaluate model performance\n",
    "print(f\"Classification Report:\\n{report}\")"
   ]
  },
  {
   "cell_type": "markdown",
   "metadata": {},
   "source": [
    "The model performs very well on the WHITE class, with high precision, recall, and F1-score.\n",
    "\n",
    "But it completely fails to predict the RED class (0 precision , 0 recall), wich is a major issue.\n",
    "\n",
    "The YELLOW class has moderate performance, but still lags behind WHITE.\n",
    "\n",
    "RED is the major class, while WHITE and YELLOW are minority classes.\n",
    "So, these classes are imbalanced, I will use class weights."
   ]
  },
  {
   "cell_type": "markdown",
   "metadata": {},
   "source": [
    "2nd Method"
   ]
  },
  {
   "cell_type": "markdown",
   "metadata": {},
   "source": [
    "X and y are features and target"
   ]
  },
  {
   "cell_type": "code",
   "execution_count": 52,
   "metadata": {},
   "outputs": [],
   "source": [
    "data = pd.DataFrame(X)\n",
    "data['target'] = y"
   ]
  },
  {
   "cell_type": "code",
   "execution_count": 53,
   "metadata": {},
   "outputs": [],
   "source": [
    "# filter data\n",
    "data_red = data[data['target'] == 'RED']\n",
    "data_white = data[data['target'] == 'WHITE']\n",
    "data_yellow = data[data['target'] == 'YELLOW']"
   ]
  },
  {
   "cell_type": "markdown",
   "metadata": {},
   "source": [
    "To address imbalance, 5,000 random WHITE samples were taken, reducing training size while ensuring fairer weight for YELLOW and RED. This was repeated multiple times to confirm model consistency."
   ]
  },
  {
   "cell_type": "code",
   "execution_count": 54,
   "metadata": {},
   "outputs": [],
   "source": [
    "''' \n",
    "Sample 5000 random rows from the WHITE, the number of instances of the WHITE\n",
    "is reduced, which helps balance the class distribution.\n",
    "'''\n",
    "data_white_sampled = data_white.sample(n=5000, random_state=42)"
   ]
  },
  {
   "cell_type": "code",
   "execution_count": 55,
   "metadata": {},
   "outputs": [],
   "source": [
    "# Combine the data from three different classes into a single balanced dataset\n",
    "data_balanced = pd.concat([data_red, data_white_sampled, data_yellow], axis=0)\n",
    "\n",
    "# Split the balanced dataset into features and target\n",
    "X_balanced = data_balanced.drop(columns=['target']).values\n",
    "y_balanced = data_balanced['target'].values"
   ]
  },
  {
   "cell_type": "code",
   "execution_count": 56,
   "metadata": {},
   "outputs": [],
   "source": [
    "label_encoder = LabelEncoder()\n",
    "y_balanced_encoded = label_encoder.fit_transform(y_balanced)"
   ]
  },
  {
   "cell_type": "markdown",
   "metadata": {},
   "source": [
    "Split data into train , validation and test"
   ]
  },
  {
   "cell_type": "code",
   "execution_count": 57,
   "metadata": {},
   "outputs": [
    {
     "data": {
      "text/plain": [
       "\"\\nif I only split data into Training and Testing sets, maybe there will be\\nOverfitting (the model could just memorize the data instead of learning)\\n\\nThanks to validation, I can check the model's performance to ensure it is\\ngeneralizing well and not overfitting.\\n\""
      ]
     },
     "execution_count": 57,
     "metadata": {},
     "output_type": "execute_result"
    }
   ],
   "source": [
    "'''\n",
    "if I only split data into Training and Testing sets, maybe there will be\n",
    "Overfitting (the model could just memorize the data instead of learning)\n",
    "\n",
    "Thanks to validation, I can check the model's performance to ensure it is\n",
    "generalizing well and not overfitting.\n",
    "'''"
   ]
  },
  {
   "cell_type": "code",
   "execution_count": 58,
   "metadata": {},
   "outputs": [],
   "source": [
    "X_train, X_temp, y_train, y_temp = train_test_split(\n",
    "    X_balanced, y_balanced_encoded, test_size=0.3, stratify=y_balanced_encoded, random_state=42\n",
    ")\n",
    "\n",
    "X_val, X_test, y_val, y_test = train_test_split(\n",
    "    X_temp, y_temp, test_size=0.5, stratify=y_temp, random_state=42\n",
    ")"
   ]
  },
  {
   "cell_type": "code",
   "execution_count": 59,
   "metadata": {},
   "outputs": [],
   "source": [
    "scaler = StandardScaler()\n",
    "X_train_scaled = scaler.fit_transform(X_train)\n",
    "X_val_scaled = scaler.transform(X_val)\n",
    "X_test_scaled = scaler.transform(X_test)"
   ]
  },
  {
   "cell_type": "markdown",
   "metadata": {},
   "source": [
    "SVM with linear kernel"
   ]
  },
  {
   "cell_type": "code",
   "execution_count": 60,
   "metadata": {},
   "outputs": [
    {
     "name": "stdout",
     "output_type": "stream",
     "text": [
      "Validation Classification Report:\n",
      "              precision    recall  f1-score   support\n",
      "\n",
      "         RED       0.34      0.45      0.39       459\n",
      "       WHITE       0.72      0.50      0.59       750\n",
      "      YELLOW       0.82      0.89      0.86       885\n",
      "\n",
      "    accuracy                           0.66      2094\n",
      "   macro avg       0.63      0.61      0.61      2094\n",
      "weighted avg       0.68      0.66      0.66      2094\n",
      "\n",
      "Test Classification Report:\n",
      "              precision    recall  f1-score   support\n",
      "\n",
      "         RED       0.33      0.46      0.39       460\n",
      "       WHITE       0.71      0.50      0.58       750\n",
      "      YELLOW       0.84      0.88      0.86       885\n",
      "\n",
      "    accuracy                           0.65      2095\n",
      "   macro avg       0.63      0.61      0.61      2095\n",
      "weighted avg       0.68      0.65      0.66      2095\n",
      "\n"
     ]
    }
   ],
   "source": [
    "class_weight_dict = {0: 2.2, 1: 1.0, 2: 2.0}  # weights for each class\n",
    "svm = SVC(kernel='linear', class_weight=class_weight_dict, C=1.0)\n",
    "\n",
    "svm.fit(X_train_scaled, y_train) # Train the SVM \n",
    "\n",
    "y_val_pred = svm.predict(X_val_scaled) # Make predictions on the validation set\n",
    "\n",
    "print(\"Validation Classification Report:\")\n",
    "print(classification_report(y_val, y_val_pred, target_names=label_encoder.classes_))\n",
    "\n",
    "y_test_pred = svm.predict(X_test_scaled) # Make predictions on the test set\n",
    "\n",
    "print(\"Test Classification Report:\")\n",
    "print(classification_report(y_test, y_test_pred, target_names=label_encoder.classes_))\n"
   ]
  },
  {
   "cell_type": "markdown",
   "metadata": {},
   "source": [
    "Low performance for the RED class with low precision and recall, indicating\n",
    "difficulty in predicting this minority class. \n",
    "\n",
    "The WHITE class also has low recall, while YELLOW performs better with high recall.\n",
    "\n",
    "Switching to non-linear kernel may improve model performance."
   ]
  },
  {
   "cell_type": "code",
   "execution_count": 61,
   "metadata": {},
   "outputs": [
    {
     "name": "stdout",
     "output_type": "stream",
     "text": [
      "Accuracy: 0.6556829035339063\n"
     ]
    }
   ],
   "source": [
    "accuracy_linear = accuracy_score(y_val, y_val_pred)\n",
    "print(f\"Accuracy: {accuracy_linear}\")"
   ]
  },
  {
   "cell_type": "code",
   "execution_count": 62,
   "metadata": {},
   "outputs": [
    {
     "name": "stdout",
     "output_type": "stream",
     "text": [
      "Accuracy: 0.6257085385720149\n"
     ]
    }
   ],
   "source": [
    "precision_linear = precision_score(y_val, y_val_pred, average='macro')\n",
    "print(f\"Accuracy: {precision_linear}\")"
   ]
  },
  {
   "cell_type": "code",
   "execution_count": 63,
   "metadata": {},
   "outputs": [
    {
     "name": "stdout",
     "output_type": "stream",
     "text": [
      "Accuracy: 0.6142905604175128\n"
     ]
    }
   ],
   "source": [
    "recall_linear = recall_score(y_val, y_val_pred, average='macro')\n",
    "print(f\"Accuracy: {recall_linear}\")"
   ]
  },
  {
   "cell_type": "markdown",
   "metadata": {},
   "source": [
    "SVM with poly kernel"
   ]
  },
  {
   "cell_type": "code",
   "execution_count": 64,
   "metadata": {},
   "outputs": [
    {
     "name": "stdout",
     "output_type": "stream",
     "text": [
      "Validation Classification Report:\n",
      "              precision    recall  f1-score   support\n",
      "\n",
      "         RED       0.41      0.43      0.42       459\n",
      "       WHITE       0.80      0.16      0.27       750\n",
      "      YELLOW       0.56      0.93      0.70       885\n",
      "\n",
      "    accuracy                           0.54      2094\n",
      "   macro avg       0.59      0.51      0.46      2094\n",
      "weighted avg       0.61      0.54      0.48      2094\n",
      "\n",
      "Test Classification Report:\n",
      "              precision    recall  f1-score   support\n",
      "\n",
      "         RED       0.39      0.42      0.40       460\n",
      "       WHITE       0.77      0.17      0.28       750\n",
      "      YELLOW       0.56      0.92      0.70       885\n",
      "\n",
      "    accuracy                           0.54      2095\n",
      "   macro avg       0.58      0.50      0.46      2095\n",
      "weighted avg       0.60      0.54      0.48      2095\n",
      "\n"
     ]
    }
   ],
   "source": [
    "class_weight_dict = {0: 2.2, 1: 1.0, 2: 2.0}  # weights for each class\n",
    "svm = SVC(kernel='poly', class_weight=class_weight_dict, C=1.0)\n",
    "\n",
    "svm.fit(X_train_scaled, y_train) # Train SVM\n",
    "\n",
    "y_val_pred = svm.predict(X_val_scaled)\n",
    "\n",
    "print(\"Validation Classification Report:\")\n",
    "print(classification_report(y_val, y_val_pred, target_names=label_encoder.classes_))\n",
    "\n",
    "y_test_pred = svm.predict(X_test_scaled)\n",
    "\n",
    "print(\"Test Classification Report:\")\n",
    "print(classification_report(y_test, y_test_pred, target_names=label_encoder.classes_))\n"
   ]
  },
  {
   "cell_type": "markdown",
   "metadata": {},
   "source": [
    "RED class still has low precision and recall, but it is slightly better than with linear kernel.\n",
    "\n",
    "WHITE has very low recall, suggesting it is poorly predicted, while YELLOW has high recall but low precision.\n",
    "\n",
    "So, the results still indicate the need for further adjustments."
   ]
  },
  {
   "cell_type": "code",
   "execution_count": 65,
   "metadata": {},
   "outputs": [
    {
     "name": "stdout",
     "output_type": "stream",
     "text": [
      "Accuracy: 0.543935052531041\n"
     ]
    }
   ],
   "source": [
    "accuracy_poly = accuracy_score(y_val, y_val_pred)\n",
    "print(f\"Accuracy: {accuracy_poly}\")"
   ]
  },
  {
   "cell_type": "code",
   "execution_count": 66,
   "metadata": {},
   "outputs": [
    {
     "name": "stdout",
     "output_type": "stream",
     "text": [
      "Accuracy: 0.5906659954984347\n"
     ]
    }
   ],
   "source": [
    "precision_poly = precision_score(y_val, y_val_pred, average='macro')\n",
    "print(f\"Accuracy: {precision_poly}\")"
   ]
  },
  {
   "cell_type": "code",
   "execution_count": 67,
   "metadata": {},
   "outputs": [
    {
     "name": "stdout",
     "output_type": "stream",
     "text": [
      "Accuracy: 0.5067694201346576\n"
     ]
    }
   ],
   "source": [
    "recall_poly = recall_score(y_val, y_val_pred, average='macro')\n",
    "print(f\"Accuracy: {recall_poly}\")"
   ]
  },
  {
   "cell_type": "markdown",
   "metadata": {},
   "source": [
    "SVM with rbf kernel"
   ]
  },
  {
   "cell_type": "code",
   "execution_count": 68,
   "metadata": {},
   "outputs": [
    {
     "name": "stdout",
     "output_type": "stream",
     "text": [
      "Validation Classification Report:\n",
      "              precision    recall  f1-score   support\n",
      "\n",
      "         RED       0.41      0.56      0.47       459\n",
      "       WHITE       0.70      0.55      0.62       750\n",
      "      YELLOW       0.85      0.85      0.85       885\n",
      "\n",
      "    accuracy                           0.68      2094\n",
      "   macro avg       0.66      0.65      0.65      2094\n",
      "weighted avg       0.70      0.68      0.68      2094\n",
      "\n",
      "Test Classification Report:\n",
      "              precision    recall  f1-score   support\n",
      "\n",
      "         RED       0.41      0.61      0.49       460\n",
      "       WHITE       0.69      0.54      0.61       750\n",
      "      YELLOW       0.87      0.81      0.84       885\n",
      "\n",
      "    accuracy                           0.67      2095\n",
      "   macro avg       0.66      0.66      0.65      2095\n",
      "weighted avg       0.71      0.67      0.68      2095\n",
      "\n"
     ]
    }
   ],
   "source": [
    "class_weight_dict = {0: 2.2, 1: 1.0, 2: 2.0}  # weights for each class\n",
    "svm = SVC(kernel='rbf', class_weight=class_weight_dict, C=1.0)\n",
    "\n",
    "svm.fit(X_train_scaled, y_train)\n",
    "\n",
    "y_val_pred = svm.predict(X_val_scaled)\n",
    "print(\"Validation Classification Report:\")\n",
    "print(classification_report(y_val, y_val_pred, target_names=label_encoder.classes_))\n",
    "\n",
    "y_test_pred = svm.predict(X_test_scaled)\n",
    "print(\"Test Classification Report:\")\n",
    "print(classification_report(y_test, y_test_pred, target_names=label_encoder.classes_))\n"
   ]
  },
  {
   "cell_type": "markdown",
   "metadata": {},
   "source": [
    "The RBF kernel has improved the performance compared to the linear and polynomial kernels.\n",
    "\n",
    "The RED class now has better recall (56% val, 61% test), indicating a somewhat better ability to identify this class.\n",
    "\n",
    "WHITE still has low recall (55% val, 54% test), but it is somewhat improved compared to the previous kernels.\n",
    "\n",
    "YELLOW maintains a strong recall (85% val, 81% test) ."
   ]
  },
  {
   "cell_type": "markdown",
   "metadata": {},
   "source": [
    "RBF kernel effectively handles non-linear separations, improving performance for imbalanced datasets."
   ]
  },
  {
   "cell_type": "code",
   "execution_count": 69,
   "metadata": {},
   "outputs": [
    {
     "name": "stdout",
     "output_type": "stream",
     "text": [
      "Accuracy: 0.6776504297994269\n"
     ]
    }
   ],
   "source": [
    "accuracy_rbf = accuracy_score(y_val, y_val_pred)\n",
    "print(f\"Accuracy: {accuracy_rbf}\")"
   ]
  },
  {
   "cell_type": "code",
   "execution_count": 70,
   "metadata": {},
   "outputs": [
    {
     "name": "stdout",
     "output_type": "stream",
     "text": [
      "Accuracy: 0.6552889434979783\n"
     ]
    }
   ],
   "source": [
    "precision_rbf = precision_score(y_val, y_val_pred, average='macro')\n",
    "print(f\"Accuracy: {precision_rbf}\")"
   ]
  },
  {
   "cell_type": "code",
   "execution_count": 71,
   "metadata": {},
   "outputs": [
    {
     "name": "stdout",
     "output_type": "stream",
     "text": [
      "Accuracy: 0.6524485801853698\n"
     ]
    }
   ],
   "source": [
    "recall_rbf = recall_score(y_val, y_val_pred, average='macro')\n",
    "print(f\"Accuracy: {recall_rbf}\")"
   ]
  },
  {
   "cell_type": "markdown",
   "metadata": {},
   "source": [
    "Confusion Matrix"
   ]
  },
  {
   "cell_type": "code",
   "execution_count": 72,
   "metadata": {},
   "outputs": [
    {
     "data": {
      "text/plain": [
       "array([[258, 115,  86],\n",
       "       [298, 410,  42],\n",
       "       [ 76,  58, 751]], dtype=int64)"
      ]
     },
     "execution_count": 72,
     "metadata": {},
     "output_type": "execute_result"
    }
   ],
   "source": [
    "matrix = confusion_matrix(y_val, y_val_pred)\n",
    "matrix"
   ]
  },
  {
   "cell_type": "code",
   "execution_count": 73,
   "metadata": {},
   "outputs": [
    {
     "data": {
      "image/png": "[encoded data removed]",
      "text/plain": [
       "<Figure size 1000x800 with 2 Axes>"
      ]
     },
     "metadata": {},
     "output_type": "display_data"
    }
   ],
   "source": [
    "plt.figure(figsize=(10,8))\n",
    "sns.heatmap(\n",
    "    matrix, annot=True, fmt='d', cmap='Blues', \n",
    "    xticklabels=label_encoder.classes_, yticklabels=label_encoder.classes_\n",
    "    )\n",
    "plt.xlabel('Predicted labels')\n",
    "plt.ylabel('True labels')\n",
    "plt.title('Confusion matrix')\n",
    "plt.show()"
   ]
  },
  {
   "cell_type": "markdown",
   "metadata": {},
   "source": [
    "The model performs well for YELLOW (751 correct predictions).\n",
    "\n",
    "RED still has a significant number of misclassifications as WHITE and YELLOW, suggesting that the model struggles more with RED.\n",
    "\n",
    "WHITE is predicted with reasonable degree of accuracy(410 correct0).\n",
    "\n",
    "The confusion matrix indicates that the model performs better with YELLOW, with relatively high number of true positives. However, it struggles more with RED and WHITE, showing misclassifications, espicially between RED and WHITE."
   ]
  },
  {
   "cell_type": "markdown",
   "metadata": {},
   "source": [
    "3rd Method"
   ]
  },
  {
   "cell_type": "markdown",
   "metadata": {},
   "source": [
    "SVM rbf kernel with C=25 and gamma=0.1"
   ]
  },
  {
   "cell_type": "code",
   "execution_count": 74,
   "metadata": {},
   "outputs": [],
   "source": [
    "n_iterations = 5 \n",
    "reports = []"
   ]
  },
  {
   "cell_type": "code",
   "execution_count": 75,
   "metadata": {},
   "outputs": [],
   "source": [
    "for i in range(n_iterations):\n",
    "    data_white_sampled = data_white.sample(n=5000, random_state=i)\n",
    "    data_balanced = pd.concat([data_red, data_white_sampled, data_yellow], axis=0)\n",
    "    \n",
    "    X_balanced = data_balanced.drop(columns=['target']).values\n",
    "    y_balanced = data_balanced['target'].values\n",
    "\n",
    "    y_balanced_encoded = label_encoder.fit_transform(y_balanced)\n",
    "\n",
    "    X_train, X_temp, y_train, y_temp = train_test_split(\n",
    "        X_balanced, y_balanced_encoded, test_size=0.3, stratify=y_balanced_encoded, random_state=42\n",
    "    )\n",
    "    X_val, X_test, y_val, y_test = train_test_split(\n",
    "        X_temp, y_temp, test_size=0.5, stratify=y_temp, random_state=42\n",
    "    )\n",
    "    \n",
    "    X_train_scaled = scaler.fit_transform(X_train)\n",
    "    X_val_scaled = scaler.transform(X_val)\n",
    "    X_test_scaled = scaler.transform(X_test)\n",
    "\n",
    "    class_weight_dict = {0: 2.4, 1: 1.1, 2: 2.0}\n",
    "    \n",
    "    \n",
    "    svm = SVC(kernel='rbf', class_weight=class_weight_dict, C=25, gamma=0.1)\n",
    "    svm.fit(X_train_scaled, y_train)\n",
    "\n",
    "    \n",
    "    y_val_pred = svm.predict(X_val_scaled)\n",
    "    report = classification_report(y_val, y_val_pred, target_names=label_encoder.classes_, output_dict=True)\n",
    "    reports.append(report)\n",
    "\n",
    "avg_precision = np.mean([r['weighted avg']['precision'] for r in reports])\n",
    "avg_recall = np.mean([r['weighted avg']['recall'] for r in reports])\n",
    "avg_f1 = np.mean([r['weighted avg']['f1-score'] for r in reports])\n"
   ]
  },
  {
   "cell_type": "code",
   "execution_count": 76,
   "metadata": {},
   "outputs": [
    {
     "data": {
      "text/plain": [
       "(0.7180694328088949, 0.6966571155682904, 0.7051723588852584)"
      ]
     },
     "execution_count": 76,
     "metadata": {},
     "output_type": "execute_result"
    }
   ],
   "source": [
    "avg_precision, avg_recall, avg_f1"
   ]
  },
  {
   "cell_type": "markdown",
   "metadata": {},
   "source": [
    "Iterations are used to evaluate the stability of the model's performance across different random samples of the WHITE class to minimize variance and overfitting.\n",
    "\n",
    "I increased C, to help the model focus more on correctly classifying training examples.\n",
    "\n",
    "I added gamma and setting it to 0.1, allows the model to learn complex decision boundaries while avoiding overfitting."
   ]
  },
  {
   "cell_type": "markdown",
   "metadata": {},
   "source": [
    "Random Forest Classifier"
   ]
  },
  {
   "cell_type": "markdown",
   "metadata": {},
   "source": [
    "I decided to change the model from SVM to Random Forest Classifier. the reason is to explore a different approach to handle class imbalance and model complexity."
   ]
  },
  {
   "cell_type": "markdown",
   "metadata": {},
   "source": [
    "Why Random Forest?\n",
    " - Robust, ensemble-based model that minimizes overfitting while capturing complex patterns.\n",
    " \n",
    "Automatically adjusts for class imbalance using Balanced weight mode."
   ]
  },
  {
   "cell_type": "code",
   "execution_count": 85,
   "metadata": {},
   "outputs": [
    {
     "name": "stdout",
     "output_type": "stream",
     "text": [
      "              precision    recall  f1-score   support\n",
      "\n",
      "         RED       0.52      0.44      0.48       459\n",
      "       WHITE       0.67      0.78      0.72       750\n",
      "      YELLOW       0.87      0.83      0.85       885\n",
      "\n",
      "    accuracy                           0.72      2094\n",
      "   macro avg       0.69      0.68      0.68      2094\n",
      "weighted avg       0.72      0.72      0.72      2094\n",
      "\n",
      "Test Classification Report:\n",
      "              precision    recall  f1-score   support\n",
      "\n",
      "         RED       0.48      0.45      0.47       460\n",
      "       WHITE       0.67      0.75      0.71       750\n",
      "      YELLOW       0.88      0.81      0.85       885\n",
      "\n",
      "    accuracy                           0.71      2095\n",
      "   macro avg       0.68      0.67      0.67      2095\n",
      "weighted avg       0.72      0.71      0.71      2095\n",
      "\n"
     ]
    }
   ],
   "source": [
    "rf = RandomForestClassifier(   \n",
    "    n_estimators=200,         # Number of trees\n",
    "    max_depth=20,             # Maximum depth of trees\n",
    "    min_samples_split=10,     # Minimum samples to split a node\n",
    "    min_samples_leaf=5,       # Minimum samples per leaf\n",
    "    class_weight='balanced',  # Handle class imbalance by adjusting weights\n",
    "    random_state=42\n",
    ")\n",
    "\n",
    "rf.fit(X_train_scaled, y_train)\n",
    "\n",
    "y_pred = rf.predict(X_val_scaled)\n",
    "\n",
    "print(classification_report(y_val, y_pred, target_names=label_encoder.classes_))\n",
    "\n",
    "y_test_pred = rf.predict(X_test_scaled)\n",
    "print(\"Test Classification Report:\")\n",
    "print(classification_report(y_test, y_test_pred, target_names=label_encoder.classes_))\n"
   ]
  },
  {
   "cell_type": "markdown",
   "metadata": {},
   "source": [
    "This switch has helped significantly improve the performance."
   ]
  },
  {
   "cell_type": "code",
   "execution_count": 78,
   "metadata": {},
   "outputs": [
    {
     "data": {
      "text/plain": [
       "array([[238, 142,  79],\n",
       "       [241, 505,   4],\n",
       "       [ 72,  69, 744]], dtype=int64)"
      ]
     },
     "execution_count": 78,
     "metadata": {},
     "output_type": "execute_result"
    }
   ],
   "source": [
    "matrix2 = confusion_matrix(y_val, y_val_pred)\n",
    "matrix2"
   ]
  },
  {
   "cell_type": "code",
   "execution_count": 79,
   "metadata": {},
   "outputs": [
    {
     "data": {
      "image/png": "[encoded data removed]",
      "text/plain": [
       "<Figure size 1000x800 with 2 Axes>"
      ]
     },
     "metadata": {},
     "output_type": "display_data"
    }
   ],
   "source": [
    "plt.figure(figsize=(10,8))\n",
    "sns.heatmap(\n",
    "    matrix2, annot=True, fmt='d', cmap='Blues', \n",
    "    xticklabels=label_encoder.classes_, yticklabels=label_encoder.classes_\n",
    "    )\n",
    "plt.xlabel('Predicted labels')\n",
    "plt.ylabel('True labels')\n",
    "plt.title('Confusion matrix')\n",
    "plt.show()"
   ]
  },
  {
   "cell_type": "markdown",
   "metadata": {},
   "source": [
    "The model now has a more balanced performance across all classes."
   ]
  },
  {
   "cell_type": "code",
   "execution_count": 80,
   "metadata": {},
   "outputs": [
    {
     "name": "stdout",
     "output_type": "stream",
     "text": [
      "Accuracy: 0.710124164278892\n"
     ]
    }
   ],
   "source": [
    "accuracy_RFC = accuracy_score(y_val, y_val_pred)\n",
    "print(f\"Accuracy: {accuracy_RFC}\")"
   ]
  },
  {
   "cell_type": "code",
   "execution_count": 81,
   "metadata": {},
   "outputs": [
    {
     "name": "stdout",
     "output_type": "stream",
     "text": [
      "Precision: 0.6789621431306485\n"
     ]
    }
   ],
   "source": [
    "precision_RFC = precision_score(y_val, y_val_pred, average='macro')\n",
    "print(f\"Precision: {precision_RFC}\")"
   ]
  },
  {
   "cell_type": "code",
   "execution_count": 82,
   "metadata": {},
   "outputs": [
    {
     "name": "stdout",
     "output_type": "stream",
     "text": [
      "Recall: 0.677509939317849\n"
     ]
    }
   ],
   "source": [
    "recall_RFC = recall_score(y_val, y_val_pred, average='macro')\n",
    "print(f\"Recall: {recall_RFC}\")"
   ]
  },
  {
   "cell_type": "markdown",
   "metadata": {},
   "source": [
    "Comparaison"
   ]
  },
  {
   "cell_type": "code",
   "execution_count": 83,
   "metadata": {},
   "outputs": [],
   "source": [
    "# dictionary of results\n",
    "results = {\n",
    "    'Model': ['Random Forest', 'SVM (Linear)', 'SVM (RBF)', 'SVM (Polynomial)'],\n",
    "    'Accuracy': [accuracy_RFC, accuracy_linear, accuracy_rbf, accuracy_poly],\n",
    "    'Precision': [precision_RFC, precision_linear, precision_rbf, precision_poly],\n",
    "    'Recall': [recall_RFC, recall_linear, recall_rbf, recall_poly]\n",
    "}\n",
    "\n",
    "results_df = pd.DataFrame(results)\n"
   ]
  },
  {
   "cell_type": "code",
   "execution_count": 84,
   "metadata": {},
   "outputs": [
    {
     "data": {
      "text/html": [
       "<div>\n",
       "<style scoped>\n",
       "    .dataframe tbody tr th:only-of-type {\n",
       "        vertical-align: middle;\n",
       "    }\n",
       "\n",
       "    .dataframe tbody tr th {\n",
       "        vertical-align: top;\n",
       "    }\n",
       "\n",
       "    .dataframe thead th {\n",
       "        text-align: right;\n",
       "    }\n",
       "</style>\n",
       "<table border=\"1\" class=\"dataframe\">\n",
       "  <thead>\n",
       "    <tr style=\"text-align: right;\">\n",
       "      <th></th>\n",
       "      <th>Model</th>\n",
       "      <th>Accuracy</th>\n",
       "      <th>Precision</th>\n",
       "      <th>Recall</th>\n",
       "    </tr>\n",
       "  </thead>\n",
       "  <tbody>\n",
       "    <tr>\n",
       "      <th>0</th>\n",
       "      <td>Random Forest</td>\n",
       "      <td>0.710124</td>\n",
       "      <td>0.678962</td>\n",
       "      <td>0.677510</td>\n",
       "    </tr>\n",
       "    <tr>\n",
       "      <th>1</th>\n",
       "      <td>SVM (Linear)</td>\n",
       "      <td>0.655683</td>\n",
       "      <td>0.625709</td>\n",
       "      <td>0.614291</td>\n",
       "    </tr>\n",
       "    <tr>\n",
       "      <th>2</th>\n",
       "      <td>SVM (RBF)</td>\n",
       "      <td>0.677650</td>\n",
       "      <td>0.655289</td>\n",
       "      <td>0.652449</td>\n",
       "    </tr>\n",
       "    <tr>\n",
       "      <th>3</th>\n",
       "      <td>SVM (Polynomial)</td>\n",
       "      <td>0.543935</td>\n",
       "      <td>0.590666</td>\n",
       "      <td>0.506769</td>\n",
       "    </tr>\n",
       "  </tbody>\n",
       "</table>\n",
       "</div>"
      ],
      "text/plain": [
       "              Model  Accuracy  Precision    Recall\n",
       "0     Random Forest  0.710124   0.678962  0.677510\n",
       "1      SVM (Linear)  0.655683   0.625709  0.614291\n",
       "2         SVM (RBF)  0.677650   0.655289  0.652449\n",
       "3  SVM (Polynomial)  0.543935   0.590666  0.506769"
      ]
     },
     "execution_count": 84,
     "metadata": {},
     "output_type": "execute_result"
    }
   ],
   "source": [
    "results_df"
   ]
  },
  {
   "cell_type": "markdown",
   "metadata": {},
   "source": [
    "Best Model: Random Forest is the best model here, outperforming all other models with the highest values for accuracy, precision, and recall.\n",
    "\n",
    "Worst Model: SVM Polynomial is the worst-performing model, with the lowest values for all key metrics."
   ]
  }
 ],
 "metadata": {
  "kernelspec": {
   "display_name": "Python 3",
   "language": "python",
   "name": "python3"
  },
  "language_info": {
   "codemirror_mode": {
    "name": "ipython",
    "version": 3
   },
   "file_extension": ".py",
   "mimetype": "text/x-python",
   "name": "python",
   "nbconvert_exporter": "python",
   "pygments_lexer": "ipython3",
   "version": "3.9.13"
  }
 },
 "nbformat": 4,
 "nbformat_minor": 2
}
